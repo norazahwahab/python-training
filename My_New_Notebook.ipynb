{
  "nbformat": 4,
  "nbformat_minor": 0,
  "metadata": {
    "colab": {
      "name": "My New Notebook.ipynb",
      "provenance": [],
      "authorship_tag": "ABX9TyNJzBexjcPuiEwAnXVupX1j",
      "include_colab_link": true
    },
    "kernelspec": {
      "name": "python3",
      "display_name": "Python 3"
    }
  },
  "cells": [
    {
      "cell_type": "markdown",
      "metadata": {
        "id": "view-in-github",
        "colab_type": "text"
      },
      "source": [
        "<a href=\"https://colab.research.google.com/github/norazahwahab/python-training/blob/main/My_New_Notebook.ipynb\" target=\"_parent\"><img src=\"https://colab.research.google.com/assets/colab-badge.svg\" alt=\"Open In Colab\"/></a>"
      ]
    },
    {
      "cell_type": "markdown",
      "metadata": {
        "id": "b-jacH5S5Do6"
      },
      "source": [
        "# My First Notebook\r\n",
        "**Let's try some codes**"
      ]
    },
    {
      "cell_type": "code",
      "metadata": {
        "colab": {
          "base_uri": "https://localhost:8080/"
        },
        "id": "E5qWS6sx4C9c",
        "outputId": "38f83c3a-bd45-41a3-a8a1-12ae0e57f3cb"
      },
      "source": [
        "\r\n",
        "#Calculate\r\n",
        "2*(3+4)\r\n"
      ],
      "execution_count": 1,
      "outputs": [
        {
          "output_type": "execute_result",
          "data": {
            "text/plain": [
              "14"
            ]
          },
          "metadata": {
            "tags": []
          },
          "execution_count": 1
        }
      ]
    },
    {
      "cell_type": "markdown",
      "metadata": {
        "id": "EgrPjqse5uoo"
      },
      "source": [
        ""
      ]
    }
  ]
}